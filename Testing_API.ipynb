{
 "cells": [
  {
   "cell_type": "code",
   "execution_count": 5,
   "id": "f219de31-9af6-4682-838b-3d2bb7bd5de0",
   "metadata": {},
   "outputs": [],
   "source": [
    "import requests\n",
    "import json"
   ]
  },
  {
   "cell_type": "markdown",
   "id": "b8acee18-4698-4ace-84b7-2c0ee173e6d4",
   "metadata": {},
   "source": [
    "## GET Method Testing ..."
   ]
  },
  {
   "cell_type": "code",
   "execution_count": 6,
   "id": "03a5733a-63a0-4367-9880-983d8f8cf3a5",
   "metadata": {},
   "outputs": [],
   "source": [
    "get_response = requests.get('http://127.0.0.1:8000/orders.json')"
   ]
  },
  {
   "cell_type": "code",
   "execution_count": 7,
   "id": "b570cbc1-4f64-4b7e-9862-55a2c9be7052",
   "metadata": {},
   "outputs": [
    {
     "data": {
      "text/plain": [
       "<Response [200]>"
      ]
     },
     "execution_count": 7,
     "metadata": {},
     "output_type": "execute_result"
    }
   ],
   "source": [
    "get_response"
   ]
  },
  {
   "cell_type": "code",
   "execution_count": 8,
   "id": "4b16c0b0-b352-447f-8466-7bc17b452737",
   "metadata": {},
   "outputs": [
    {
     "data": {
      "text/plain": [
       "[{'user_id': 'UI0000001',\n",
       "  'product_id': 'PI0000001',\n",
       "  'quantity': 6,\n",
       "  'payment_information': 'Paid'},\n",
       " {'user_id': 'UI0000002',\n",
       "  'product_id': 'PI0000002',\n",
       "  'quantity': 3,\n",
       "  'payment_information': 'Unpaid'}]"
      ]
     },
     "execution_count": 8,
     "metadata": {},
     "output_type": "execute_result"
    }
   ],
   "source": [
    "get_response.json()"
   ]
  },
  {
   "cell_type": "markdown",
   "id": "a8b8f5ae-c19b-404c-92b1-de078275d37f",
   "metadata": {},
   "source": [
    "## POST Method Testing... "
   ]
  },
  {
   "cell_type": "code",
   "execution_count": 9,
   "id": "693fbe66-80db-4737-bba4-de05955542a1",
   "metadata": {},
   "outputs": [],
   "source": [
    "# Data for the POST request\n",
    "data = {\n",
    "    'user_id': 'UI0000003',\n",
    "    'product_id': 'PI0000003',\n",
    "    'quantity': 9,\n",
    "    'payment_information': 'Paid'\n",
    "}"
   ]
  },
  {
   "cell_type": "code",
   "execution_count": 10,
   "id": "142a2738-c90c-4973-81f0-85c368c9bc59",
   "metadata": {},
   "outputs": [],
   "source": [
    "post_response = requests.post('http://127.0.0.1:8000/orders.json', json=data)"
   ]
  },
  {
   "cell_type": "code",
   "execution_count": 11,
   "id": "8e907e4c-9d9e-4af6-9db9-daea43fd44e6",
   "metadata": {},
   "outputs": [
    {
     "data": {
      "text/plain": [
       "<Response [201]>"
      ]
     },
     "execution_count": 11,
     "metadata": {},
     "output_type": "execute_result"
    }
   ],
   "source": [
    "post_response"
   ]
  },
  {
   "cell_type": "code",
   "execution_count": 12,
   "id": "411b4309-7039-44a5-be19-eef263dfe56a",
   "metadata": {},
   "outputs": [
    {
     "data": {
      "text/plain": [
       "{'user_id': 'UI0000003',\n",
       " 'product_id': 'PI0000003',\n",
       " 'quantity': 9,\n",
       " 'payment_information': 'Paid'}"
      ]
     },
     "execution_count": 12,
     "metadata": {},
     "output_type": "execute_result"
    }
   ],
   "source": [
    "post_response.json()"
   ]
  },
  {
   "cell_type": "code",
   "execution_count": 13,
   "id": "d0298b9c-85dc-4687-b923-3a2170c25b60",
   "metadata": {},
   "outputs": [
    {
     "data": {
      "text/plain": [
       "[{'user_id': 'UI0000001',\n",
       "  'product_id': 'PI0000001',\n",
       "  'quantity': 6,\n",
       "  'payment_information': 'Paid'},\n",
       " {'user_id': 'UI0000002',\n",
       "  'product_id': 'PI0000002',\n",
       "  'quantity': 3,\n",
       "  'payment_information': 'Unpaid'},\n",
       " {'user_id': 'UI0000003',\n",
       "  'product_id': 'PI0000003',\n",
       "  'quantity': 9,\n",
       "  'payment_information': 'Paid'}]"
      ]
     },
     "execution_count": 13,
     "metadata": {},
     "output_type": "execute_result"
    }
   ],
   "source": [
    "get_response = requests.get('http://127.0.0.1:8000/orders.json')\n",
    "get_response.json()"
   ]
  },
  {
   "cell_type": "markdown",
   "id": "64d894ff-069a-4804-988f-621d1f146a6f",
   "metadata": {},
   "source": [
    "## PUT Method Testing ..."
   ]
  },
  {
   "cell_type": "code",
   "execution_count": 26,
   "id": "5a1c50cf-e904-4d14-9b41-9b958168da5b",
   "metadata": {},
   "outputs": [],
   "source": [
    "data = {\n",
    "    'user_id': 'UI0000001',\n",
    "    'product_id': 'PI0000001',\n",
    "    'quantity': 2, #update\n",
    "    'payment_information': 'Unpaid' #update\n",
    "}"
   ]
  },
  {
   "cell_type": "code",
   "execution_count": 27,
   "id": "709ede45-6b0b-4570-8d6b-0b36e5c6b80a",
   "metadata": {},
   "outputs": [],
   "source": [
    "put_response = requests.put(f'http://127.0.0.1:8000/order_detail/{\"PI0000001\"}.json', json=data)"
   ]
  },
  {
   "cell_type": "code",
   "execution_count": 28,
   "id": "963fd0a7-ceda-48cc-8e28-b5b43c31f39c",
   "metadata": {},
   "outputs": [
    {
     "data": {
      "text/plain": [
       "<Response [200]>"
      ]
     },
     "execution_count": 28,
     "metadata": {},
     "output_type": "execute_result"
    }
   ],
   "source": [
    "put_response"
   ]
  },
  {
   "cell_type": "code",
   "execution_count": 29,
   "id": "104e215e-62f6-4e9c-9b5c-6e901b0d6173",
   "metadata": {},
   "outputs": [
    {
     "data": {
      "text/plain": [
       "{'user_id': 'UI0000001',\n",
       " 'product_id': 'PI0000001',\n",
       " 'quantity': 2,\n",
       " 'payment_information': 'Unpaid'}"
      ]
     },
     "execution_count": 29,
     "metadata": {},
     "output_type": "execute_result"
    }
   ],
   "source": [
    "put_response.json()"
   ]
  },
  {
   "cell_type": "code",
   "execution_count": 30,
   "id": "a7874613-e182-4688-8e5d-76707ce8b390",
   "metadata": {},
   "outputs": [
    {
     "data": {
      "text/plain": [
       "[{'user_id': 'UI0000001',\n",
       "  'product_id': 'PI0000001',\n",
       "  'quantity': 2,\n",
       "  'payment_information': 'Unpaid'},\n",
       " {'user_id': 'UI0000002',\n",
       "  'product_id': 'PI0000002',\n",
       "  'quantity': 3,\n",
       "  'payment_information': 'Unpaid'},\n",
       " {'user_id': 'UI0000003',\n",
       "  'product_id': 'PI0000003',\n",
       "  'quantity': 9,\n",
       "  'payment_information': 'Paid'}]"
      ]
     },
     "execution_count": 30,
     "metadata": {},
     "output_type": "execute_result"
    }
   ],
   "source": [
    "get_response = requests.get('http://127.0.0.1:8000/orders.json')\n",
    "get_response.json()"
   ]
  },
  {
   "cell_type": "markdown",
   "id": "df8524c6-b649-45ad-a42d-4c240fea04c9",
   "metadata": {},
   "source": [
    "## Delete Method Testing ..."
   ]
  },
  {
   "cell_type": "code",
   "execution_count": 31,
   "id": "5e0fee9c-a298-4ece-8be5-5f45d34022bd",
   "metadata": {},
   "outputs": [],
   "source": [
    "delete_response = requests.delete(f'http://127.0.0.1:8000/order_detail/{\"PI0000003\"}.json')"
   ]
  },
  {
   "cell_type": "code",
   "execution_count": 32,
   "id": "62b2bdad-29f0-44c3-8cda-894a8b03243f",
   "metadata": {},
   "outputs": [
    {
     "data": {
      "text/plain": [
       "<Response [204]>"
      ]
     },
     "execution_count": 32,
     "metadata": {},
     "output_type": "execute_result"
    }
   ],
   "source": [
    "delete_response"
   ]
  },
  {
   "cell_type": "code",
   "execution_count": 33,
   "id": "499e63dd-8948-4580-9f82-b2238c68d339",
   "metadata": {},
   "outputs": [
    {
     "data": {
      "text/plain": [
       "[{'user_id': 'UI0000001',\n",
       "  'product_id': 'PI0000001',\n",
       "  'quantity': 2,\n",
       "  'payment_information': 'Unpaid'},\n",
       " {'user_id': 'UI0000002',\n",
       "  'product_id': 'PI0000002',\n",
       "  'quantity': 3,\n",
       "  'payment_information': 'Unpaid'}]"
      ]
     },
     "execution_count": 33,
     "metadata": {},
     "output_type": "execute_result"
    }
   ],
   "source": [
    "get_response = requests.get('http://127.0.0.1:8000/orders.json')\n",
    "get_response.json()"
   ]
  }
 ],
 "metadata": {
  "kernelspec": {
   "display_name": "Python 3 (ipykernel)",
   "language": "python",
   "name": "python3"
  },
  "language_info": {
   "codemirror_mode": {
    "name": "ipython",
    "version": 3
   },
   "file_extension": ".py",
   "mimetype": "text/x-python",
   "name": "python",
   "nbconvert_exporter": "python",
   "pygments_lexer": "ipython3",
   "version": "3.12.3"
  }
 },
 "nbformat": 4,
 "nbformat_minor": 5
}
